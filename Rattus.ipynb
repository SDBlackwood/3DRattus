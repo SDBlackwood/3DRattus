{
 "cells": [
  {
   "cell_type": "code",
   "execution_count": 1,
   "metadata": {},
   "outputs": [],
   "source": [
    "# import pandas library for manipulating data\n",
    "import pandas as pd\n",
    "\n",
    "# import matplotlib for visualisation\n",
    "from matplotlib import pyplot as plt\n",
    "\n",
    "# import numpy for numbers and nulls\n",
    "import numpy as np\n",
    "\n",
    "# plot everything inline and on the Jupyter notebook\n",
    "%matplotlib inline"
   ]
  },
  {
   "cell_type": "markdown",
   "metadata": {},
   "source": [
    "The data is layed out in multiple sections running from 1 to 25 which are spaced an Zdistance apart, each with many X,Y coordindates for each section.\n",
    "\n",
    "Lets take 1 section and parse the data from the file into a data structure for us to plot on a graph to see how it would look.  I have changed the column headers from X and Y to S1X and S1Y to signify section 1's X & Y.\n",
    "I'm also going to remove any unsued colums and the 'Points' Column as it is just numbered [1..n] for each section"
   ]
  },
  {
   "cell_type": "code",
   "execution_count": 2,
   "metadata": {},
   "outputs": [],
   "source": [
    "# convert thte file into a Excel object in pandas (df for DataFrame)\n",
    "df = pd.read_excel(\"data.xlsx\")"
   ]
  },
  {
   "cell_type": "code",
   "execution_count": 3,
   "metadata": {
    "scrolled": false
   },
   "outputs": [
    {
     "name": "stdout",
     "output_type": "stream",
     "text": [
      "     S1X    S1Y    S2X    S2Y    S3X    S3Y    S4X    S4Y    S5X    S5Y  \\\n",
      "0  334.0  414.0  266.0  388.0  251.0  360.0  289.0  388.0  205.0  333.0   \n",
      "1  335.0  414.0  267.0  388.0  252.0  360.0  290.0  388.0  206.0  333.0   \n",
      "2  336.0  414.0  268.0  388.0  253.0  360.0  291.0  388.0  207.0  333.0   \n",
      "3  337.0  414.0  269.0  388.0  254.0  360.0  292.0  388.0  208.0  333.0   \n",
      "4  338.0  414.0  270.0  388.0  255.0  360.0  507.0  388.0  209.0  333.0   \n",
      "\n",
      "   ...     S21X  S21Y   S22X   S22Y   S23X  S23Y   S24X  S24Y   S25X   S25Y  \n",
      "0  ...    346.0  96.0  385.0  102.0  333.0  31.0  329.0  49.0  440.0  131.0  \n",
      "1  ...    347.0  96.0  386.0  102.0  334.0  31.0  330.0  49.0  441.0  131.0  \n",
      "2  ...    348.0  96.0  387.0  102.0  335.0  31.0  331.0  49.0  442.0  131.0  \n",
      "3  ...    349.0  96.0  388.0  102.0  336.0  31.0  332.0  49.0  443.0  131.0  \n",
      "4  ...    350.0  96.0  389.0  102.0  337.0  31.0  333.0  49.0  444.0  131.0  \n",
      "\n",
      "[5 rows x 50 columns]\n"
     ]
    }
   ],
   "source": [
    "# print out the first 5 rows of the data\n",
    "print (df.head())"
   ]
  },
  {
   "cell_type": "code",
   "execution_count": 4,
   "metadata": {},
   "outputs": [
    {
     "name": "stdout",
     "output_type": "stream",
     "text": [
      "Rows and Columns (68067, 50)\n"
     ]
    }
   ],
   "source": [
    "# How many rows do we have?\n",
    "print(\"Rows and Columns\", df.shape)"
   ]
  },
  {
   "cell_type": "code",
   "execution_count": 8,
   "metadata": {},
   "outputs": [
    {
     "data": {
      "image/png": "[encoded data removed]",
      "text/plain": [
       "<Figure size 432x288 with 1 Axes>"
      ]
     },
     "metadata": {
      "needs_background": "light"
     },
     "output_type": "display_data"
    }
   ],
   "source": [
    "# get every value from S1X and S1Y, and plot of a graph if not NaN (Not any number)\n",
    "seriesX = df['S1X'].dropna()\n",
    "seriesY = df['S1Y'].dropna()\n",
    "\n",
    "\n",
    "for x,y in zip(seriesX,seriesY):\n",
    "    plt.plot(int(x),int(y),'ro')\n",
    "\n",
    "plt.show()"
   ]
  },
  {
   "cell_type": "markdown",
   "metadata": {},
   "source": [
    "Next step is to create a 3D plot and plot every slice!"
   ]
  }
 ],
 "metadata": {
  "kernelspec": {
   "display_name": "Python 3",
   "language": "python",
   "name": "python3"
  },
  "language_info": {
   "codemirror_mode": {
    "name": "ipython",
    "version": 3
   },
   "file_extension": ".py",
   "mimetype": "text/x-python",
   "name": "python",
   "nbconvert_exporter": "python",
   "pygments_lexer": "ipython3",
   "version": "3.6.7"
  }
 },
 "nbformat": 4,
 "nbformat_minor": 2
}
